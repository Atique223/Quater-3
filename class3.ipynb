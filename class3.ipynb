{
  "nbformat": 4,
  "nbformat_minor": 0,
  "metadata": {
    "colab": {
      "provenance": [],
      "include_colab_link": true
    },
    "kernelspec": {
      "name": "python3",
      "display_name": "Python 3"
    },
    "language_info": {
      "name": "python"
    }
  },
  "cells": [
    {
      "cell_type": "markdown",
      "metadata": {
        "id": "view-in-github",
        "colab_type": "text"
      },
      "source": [
        "<a href=\"https://colab.research.google.com/github/Atique223/Quater-3/blob/main/class3.ipynb\" target=\"_parent\"><img src=\"https://colab.research.google.com/assets/colab-badge.svg\" alt=\"Open In Colab\"/></a>"
      ]
    },
    {
      "cell_type": "code",
      "execution_count": null,
      "metadata": {
        "colab": {
          "base_uri": "https://localhost:8080/"
        },
        "id": "TI7wjoruYosN",
        "outputId": "6fd11ed0-bef7-410c-97ef-5b6a58f542c8"
      },
      "outputs": [
        {
          "output_type": "stream",
          "name": "stdout",
          "text": [
            "Hello World\n"
          ]
        }
      ],
      "source": [
        "print(\"Hello World\")"
      ]
    },
    {
      "cell_type": "code",
      "source": [
        "sehar_items: list = [\"Paratha\", \"Chai\", \"Lassi\", \"Pani\", \"Pheni\"]\n",
        "\n",
        "sehar_items.pop(1)\n",
        "sehar_items.append(\"Nihari\")\n",
        "sehar_items.remove(\"Paratha\")\n",
        "\n",
        "print(sehar_items)"
      ],
      "metadata": {
        "colab": {
          "base_uri": "https://localhost:8080/"
        },
        "id": "T3Ac0VZjZCkS",
        "outputId": "57dc7b40-f190-4fb7-ec52-8479224fcc81"
      },
      "execution_count": null,
      "outputs": [
        {
          "output_type": "stream",
          "name": "stdout",
          "text": [
            "['Lassi', 'Pani', 'Pheni', 'Nihari']\n"
          ]
        }
      ]
    },
    {
      "cell_type": "code",
      "source": [
        "sehar_items_tuple = (\"Pani\", \"Chai\", \"Salan\")\n",
        "sehar_items_tuple"
      ],
      "metadata": {
        "colab": {
          "base_uri": "https://localhost:8080/"
        },
        "id": "l9xN6Lc5a4Tb",
        "outputId": "4bf48655-28ee-4bc1-9922-6006325f6d86"
      },
      "execution_count": null,
      "outputs": [
        {
          "output_type": "execute_result",
          "data": {
            "text/plain": [
              "('Pani', 'Chai', 'Salan')"
            ]
          },
          "metadata": {},
          "execution_count": 2
        }
      ]
    },
    {
      "cell_type": "code",
      "source": [
        "# Unorder\n",
        "# Mutable\n",
        "# Unchangable\n",
        "\n",
        "iftar_items: set = {\"Pakoray\", \"Khujoor\", \"Rooh Afza\", \"Fruit chat\", \"Rooh Afza\", \"Pakoray\"}\n",
        "iftar_items.add(\"Fruit Chat\")\n",
        "iftar_items.remove(\"Fruit chat\")\n",
        "\n",
        "print(type(iftar_items))\n",
        "\n",
        "\n",
        "\n",
        "\n",
        "iftar_items_frozen_set: frozenset = frozenset(iftar_items)\n",
        "\n",
        "print(type(iftar_items_frozen_set))\n",
        "iftar_items_frozen_set.add(\"Dahi Baray\")\n",
        "\n",
        "\n",
        "\n",
        "iftar_items"
      ],
      "metadata": {
        "colab": {
          "base_uri": "https://localhost:8080/"
        },
        "id": "yYsdtGupbscK",
        "outputId": "d5cd8659-93bd-4d20-b59f-7a6595623254"
      },
      "execution_count": null,
      "outputs": [
        {
          "output_type": "stream",
          "name": "stdout",
          "text": [
            "<class 'set'>\n",
            "<class 'frozenset'>\n"
          ]
        }
      ]
    },
    {
      "cell_type": "code",
      "source": [
        "# num_1: int = input(\"Enter your number: \")\n",
        "\n",
        "# sum: int = 10 + int(num_1)\n",
        "# print(sum)\n",
        "\n",
        "sehar_items: list = [\"Paratha\", \"Chai\", \"Lassi\", \"Pani\", \"Pheni\", \"Chai\", \"Lassi\"]\n",
        "\n",
        "# fix_sehar_items = tuple(sehar_items)\n",
        "\n",
        "# fix_sehar_items\n",
        "\n",
        "\n",
        "unique_sehar_items: set = set(sehar_items)\n",
        "\n",
        "more_sehar_items: list = list(unique_sehar_items)\n",
        "\n",
        "\n",
        "print(sehar_items)\n",
        "print(more_sehar_items)\n"
      ],
      "metadata": {
        "colab": {
          "base_uri": "https://localhost:8080/"
        },
        "id": "wf5o4nQlfFX6",
        "outputId": "e6f224c8-7f81-48aa-bd64-255fb8fea980"
      },
      "execution_count": null,
      "outputs": [
        {
          "output_type": "stream",
          "name": "stdout",
          "text": [
            "['Paratha', 'Chai', 'Lassi', 'Pani', 'Pheni', 'Chai', 'Lassi']\n",
            "['Lassi', 'Pani', 'Pheni', 'Chai', 'Paratha']\n"
          ]
        }
      ]
    },
    {
      "cell_type": "code",
      "source": [
        "# num1:int = 10\n",
        "# num2 : float = 3.5\n",
        "\n",
        "# sum = num1 + num2\n",
        "\n",
        "# print(type(sum))\n",
        "\n",
        "\n",
        "# num = \"10\"\n",
        "\n",
        "# print(type(int(num)))\n",
        "\n",
        "num1:int = 10\n",
        "num2 : float = 2\n",
        "\n",
        "sum = num1 / num2\n",
        "\n",
        "print(type(sum))\n",
        "\n"
      ],
      "metadata": {
        "colab": {
          "base_uri": "https://localhost:8080/"
        },
        "id": "9Ou1e4qLk1HA",
        "outputId": "bcb05436-74dc-4f27-dd38-64006b63f88b"
      },
      "execution_count": null,
      "outputs": [
        {
          "output_type": "stream",
          "name": "stdout",
          "text": [
            "<class 'float'>\n"
          ]
        }
      ]
    },
    {
      "cell_type": "code",
      "source": [
        "# Module\n",
        "\n",
        "# import math\n",
        "# from math import sqrt\n",
        "# import random\n",
        "\n",
        "\n",
        "# # print(sqrt(81))\n",
        "# print(random.randint(1, 10))"
      ],
      "metadata": {
        "colab": {
          "base_uri": "https://localhost:8080/"
        },
        "id": "ekcjbKbPl1EK",
        "outputId": "be592538-380d-4dbb-e991-1a9f00bcc767"
      },
      "execution_count": null,
      "outputs": [
        {
          "output_type": "stream",
          "name": "stdout",
          "text": [
            "5\n"
          ]
        }
      ]
    },
    {
      "cell_type": "code",
      "source": [
        "!pip install requests"
      ],
      "metadata": {
        "colab": {
          "base_uri": "https://localhost:8080/"
        },
        "id": "Ax1BuDdcny2y",
        "outputId": "18ae0f60-f3dc-4b0b-fce6-67cb7d02e050"
      },
      "execution_count": null,
      "outputs": [
        {
          "output_type": "stream",
          "name": "stdout",
          "text": [
            "Requirement already satisfied: requests in /usr/local/lib/python3.11/dist-packages (2.32.3)\n",
            "Requirement already satisfied: charset-normalizer<4,>=2 in /usr/local/lib/python3.11/dist-packages (from requests) (3.4.1)\n",
            "Requirement already satisfied: idna<4,>=2.5 in /usr/local/lib/python3.11/dist-packages (from requests) (3.10)\n",
            "Requirement already satisfied: urllib3<3,>=1.21.1 in /usr/local/lib/python3.11/dist-packages (from requests) (2.3.0)\n",
            "Requirement already satisfied: certifi>=2017.4.17 in /usr/local/lib/python3.11/dist-packages (from requests) (2025.1.31)\n"
          ]
        }
      ]
    },
    {
      "cell_type": "code",
      "source": [
        "import requests\n",
        "\n",
        "response = requests.get(\"https://api.github.com\")\n",
        "\n",
        "print(response.status_code)\n",
        "\n"
      ],
      "metadata": {
        "id": "FErPgoP9oKag"
      },
      "execution_count": null,
      "outputs": []
    },
    {
      "cell_type": "code",
      "source": [
        "def greeting(name: str) -> str:\n",
        "  print(f\"Hello {name}\")\n",
        "\n",
        "greeting(\"Ali\")"
      ],
      "metadata": {
        "colab": {
          "base_uri": "https://localhost:8080/"
        },
        "id": "kxf4l5a4obIE",
        "outputId": "e30f3b50-bb5b-4ef8-aa23-36b40cd4028f"
      },
      "execution_count": null,
      "outputs": [
        {
          "output_type": "stream",
          "name": "stdout",
          "text": [
            "Hello Ali\n"
          ]
        }
      ]
    },
    {
      "cell_type": "code",
      "source": [
        "def sandwich_buddy(bread: str, filling: str):\n",
        "  sandwich_bread = f\"{bread} Bread\"\n",
        "  sandwich_filling = f\"{filling} filling\"\n",
        "\n",
        "  complete_sandwich = f\"Your Sandwich with {sandwich_bread} and {sandwich_filling} is complete !\"\n",
        "\n",
        "  return complete_sandwich\n",
        "\n",
        "\n",
        "\n",
        "ali = sandwich_buddy(\"Garlic\", \"Beef Patty\")\n",
        "print(\"Ali\",ali)\n",
        "\n",
        "\n",
        "bilal = sandwich_buddy(\"Simple\", \"Chicken Patty\")\n",
        "print(\"bilal\", bilal)"
      ],
      "metadata": {
        "colab": {
          "base_uri": "https://localhost:8080/"
        },
        "id": "WTubBF2ZqlUQ",
        "outputId": "c0811506-9e78-43a8-f57c-96461535f488"
      },
      "execution_count": null,
      "outputs": [
        {
          "output_type": "stream",
          "name": "stdout",
          "text": [
            "Ali Your Sandwich with Garlic Bread and Beef Patty filling is complete !\n",
            "bilal Your Sandwich with Simple Bread and Chicken Patty filling is complete !\n"
          ]
        }
      ]
    },
    {
      "cell_type": "code",
      "source": [
        "def greeting(first_name: str, last_name: str) -> str:\n",
        "  print(f\"Hello {first_name} {last_name}\")\n",
        "\n",
        "greeting(\"atique\", \"ur rehman\")"
      ],
      "metadata": {
        "colab": {
          "base_uri": "https://localhost:8080/"
        },
        "id": "PEb_Esh_u3Va",
        "outputId": "1c2dec8e-cf81-4630-a384-16c8a1a4d777"
      },
      "execution_count": 3,
      "outputs": [
        {
          "output_type": "stream",
          "name": "stdout",
          "text": [
            "Hello atique ur rehman\n"
          ]
        }
      ]
    }
  ]
}