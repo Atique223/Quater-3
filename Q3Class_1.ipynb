{
  "nbformat": 4,
  "nbformat_minor": 0,
  "metadata": {
    "colab": {
      "provenance": []
    },
    "kernelspec": {
      "name": "python3",
      "display_name": "Python 3"
    },
    "language_info": {
      "name": "python"
    }
  },
  "cells": [
    {
      "cell_type": "markdown",
      "source": [
        "# Print Hello World\n",
        "\n",
        "\n"
      ],
      "metadata": {
        "id": "fAnIbWhqDwSF"
      }
    },
    {
      "cell_type": "code",
      "execution_count": null,
      "metadata": {
        "colab": {
          "base_uri": "https://localhost:8080/"
        },
        "id": "_BQDNr3lBubT",
        "outputId": "fa0359b6-2a38-4e19-8154-544a0ad5c0ed"
      },
      "outputs": [
        {
          "output_type": "stream",
          "name": "stdout",
          "text": [
            "Hello World !\n"
          ]
        }
      ],
      "source": [
        "print(\"Hello World !\")"
      ]
    },
    {
      "cell_type": "code",
      "source": [
        "full_name : int = \"Atique ur rehman\"\n",
        "\n",
        "print((full_name))"
      ],
      "metadata": {
        "colab": {
          "base_uri": "https://localhost:8080/"
        },
        "id": "4CyqiKqHUbzn",
        "outputId": "6395f6e5-d9d8-4af6-bbc5-cd39fca3a9d0"
      },
      "execution_count": 1,
      "outputs": [
        {
          "output_type": "stream",
          "name": "stdout",
          "text": [
            "Atique ur rehman\n"
          ]
        }
      ]
    },
    {
      "cell_type": "code",
      "source": [
        "any_number: int = 12\n",
        "print(type(any_number))"
      ],
      "metadata": {
        "colab": {
          "base_uri": "https://localhost:8080/"
        },
        "id": "cOx06ZjNWAnc",
        "outputId": "5d2276ad-d7ae-4d65-cf58-41a7cb23b815"
      },
      "execution_count": null,
      "outputs": [
        {
          "output_type": "stream",
          "name": "stdout",
          "text": [
            "<class 'int'>\n"
          ]
        }
      ]
    },
    {
      "cell_type": "code",
      "source": [
        "float_number: float = 12.232\n",
        "print(type(float_number))\n"
      ],
      "metadata": {
        "colab": {
          "base_uri": "https://localhost:8080/"
        },
        "id": "44EixeedWVlH",
        "outputId": "70c5a664-8c53-4ff2-8939-c0ef635ff7fb"
      },
      "execution_count": null,
      "outputs": [
        {
          "output_type": "stream",
          "name": "stdout",
          "text": [
            "<class 'float'>\n"
          ]
        }
      ]
    },
    {
      "cell_type": "code",
      "source": [
        "is_teacher: bool = True\n",
        "\n",
        "print(type(is_teacher))"
      ],
      "metadata": {
        "colab": {
          "base_uri": "https://localhost:8080/"
        },
        "id": "tmdvaR05W8id",
        "outputId": "d00bf856-5c29-4ec0-b028-56171a78eeea"
      },
      "execution_count": null,
      "outputs": [
        {
          "output_type": "stream",
          "name": "stdout",
          "text": [
            "<class 'bool'>\n"
          ]
        }
      ]
    },
    {
      "cell_type": "code",
      "source": [
        "first_name: str = \"atique\"\n",
        "last_name: str = \"ur rehman\"\n",
        "\n",
        "full_name: str = first_name + \" \" + last_name\n",
        "\n",
        "print(full_name)"
      ],
      "metadata": {
        "colab": {
          "base_uri": "https://localhost:8080/"
        },
        "id": "1IOUyGabX221",
        "outputId": "09aab76b-f7e8-4ef8-a89b-d20e5f2534a0"
      },
      "execution_count": 2,
      "outputs": [
        {
          "output_type": "stream",
          "name": "stdout",
          "text": [
            "atique ur rehman\n"
          ]
        }
      ]
    },
    {
      "cell_type": "code",
      "source": [
        "first_name: str = \"atique\"\n",
        "last_name: str = \"ur rehman\"\n",
        "\n",
        "full_name: str = f\"{first_name} {last_name}\"\n",
        "\n",
        "print(full_name)"
      ],
      "metadata": {
        "colab": {
          "base_uri": "https://localhost:8080/"
        },
        "id": "pKw862Q4YQcE",
        "outputId": "080c88ba-b04a-4b2b-e7aa-78326d369df9"
      },
      "execution_count": 3,
      "outputs": [
        {
          "output_type": "stream",
          "name": "stdout",
          "text": [
            "atique ur rehman\n"
          ]
        }
      ]
    },
    {
      "cell_type": "code",
      "source": [
        "quarter: str = \"Q3\"\n",
        "\n",
        "achievement: str = f\"\"\"Thrilled to\n",
        "share i'm passing {quarter}\n",
        "exam!\"\"\"\n",
        "print(id(achievement))"
      ],
      "metadata": {
        "colab": {
          "base_uri": "https://localhost:8080/"
        },
        "id": "p8GjiRAUZVeX",
        "outputId": "cab8769d-78ad-4654-ed25-5a891b6302f0"
      },
      "execution_count": null,
      "outputs": [
        {
          "output_type": "stream",
          "name": "stdout",
          "text": [
            "138398361995472\n"
          ]
        }
      ]
    },
    {
      "cell_type": "code",
      "source": [
        "fruits = [\"Mango\", \"Banana\", \"Grapes\"]\n",
        "\n",
        "print(fruits[0: 2])"
      ],
      "metadata": {
        "colab": {
          "base_uri": "https://localhost:8080/"
        },
        "id": "pWNiqOfPd-G8",
        "outputId": "c6d9d935-0bb2-46df-9881-4c4efc9413c7"
      },
      "execution_count": null,
      "outputs": [
        {
          "output_type": "stream",
          "name": "stdout",
          "text": [
            "['Mango', 'Banana']\n"
          ]
        }
      ]
    }
  ]
}