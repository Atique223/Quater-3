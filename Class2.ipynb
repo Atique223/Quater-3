{
  "nbformat": 4,
  "nbformat_minor": 0,
  "metadata": {
    "colab": {
      "provenance": [],
      "include_colab_link": true
    },
    "kernelspec": {
      "name": "python3",
      "display_name": "Python 3"
    },
    "language_info": {
      "name": "python"
    }
  },
  "cells": [
    {
      "cell_type": "markdown",
      "metadata": {
        "id": "view-in-github",
        "colab_type": "text"
      },
      "source": [
        "<a href=\"https://colab.research.google.com/github/Atique223/Quater-3/blob/main/Class2.ipynb\" target=\"_parent\"><img src=\"https://colab.research.google.com/assets/colab-badge.svg\" alt=\"Open In Colab\"/></a>"
      ]
    },
    {
      "cell_type": "code",
      "execution_count": null,
      "metadata": {
        "colab": {
          "base_uri": "https://localhost:8080/"
        },
        "id": "PTB6sVzcWlbi",
        "outputId": "f3f6f16d-0472-4c44-bca3-75c553bc76f6"
      },
      "outputs": [
        {
          "output_type": "stream",
          "name": "stdout",
          "text": [
            "['He', '', 'o Wor', 'd']\n"
          ]
        }
      ],
      "source": [
        "my_string: str = \"Hello World\"\n",
        "\n",
        "modified_string: str = my_string.split(\"l\")\n",
        "print(modified_string)"
      ]
    },
    {
      "cell_type": "code",
      "source": [
        "message : str= \"Pakistan won all the matches of champions trophy!, Pakistan\"\n",
        "message = message.replace(\"Pakistan\", \"India\")\n",
        "\n",
        "print(message)"
      ],
      "metadata": {
        "colab": {
          "base_uri": "https://localhost:8080/"
        },
        "id": "9OPw6eeeXxt2",
        "outputId": "54d90371-c6bb-40ba-97fa-010c082adbcf"
      },
      "execution_count": null,
      "outputs": [
        {
          "output_type": "stream",
          "name": "stdout",
          "text": [
            "India won all the matches of champions trophy!, India\n"
          ]
        }
      ]
    },
    {
      "cell_type": "code",
      "source": [
        "join_with =  \", \"\n",
        "cricket_team_countries: str = join_with.join([\"Pakistan\", \"India\", \"USA\"])\n",
        "\n",
        "print(cricket_team_countries)"
      ],
      "metadata": {
        "colab": {
          "base_uri": "https://localhost:8080/"
        },
        "id": "UaniG9aRYlCT",
        "outputId": "de4fc406-08d2-4b59-9341-0c62218781c4"
      },
      "execution_count": 3,
      "outputs": [
        {
          "output_type": "stream",
          "name": "stdout",
          "text": [
            "Pakistan, India, USA\n"
          ]
        }
      ]
    },
    {
      "cell_type": "code",
      "source": [
        "name: str = \"atique\"\n",
        "\n",
        "print(len(name))"
      ],
      "metadata": {
        "colab": {
          "base_uri": "https://localhost:8080/"
        },
        "id": "6M1__qOGZpZJ",
        "outputId": "e277e898-37de-42b1-c210-1ba42af4ce7c"
      },
      "execution_count": 1,
      "outputs": [
        {
          "output_type": "stream",
          "name": "stdout",
          "text": [
            "6\n"
          ]
        }
      ]
    },
    {
      "cell_type": "code",
      "source": [
        "name = \"atique\";\n",
        "\n",
        "print(id(name))\n",
        "\n",
        "\n",
        "\n",
        "\n",
        "\n"
      ],
      "metadata": {
        "colab": {
          "base_uri": "https://localhost:8080/"
        },
        "id": "ELUWpdCdaNKj",
        "outputId": "16eee343-bde4-44bf-809f-d84718b5c796"
      },
      "execution_count": 4,
      "outputs": [
        {
          "output_type": "stream",
          "name": "stdout",
          "text": [
            "138705318432944\n"
          ]
        }
      ]
    },
    {
      "cell_type": "code",
      "source": [
        "import sys\n",
        "\n",
        "# # a = sys.intern(\"hello world\")\n",
        "# # b = sys.intern(\"hello world\")\n",
        "\n",
        "# a= \"hello world\"\n",
        "# b = \"hello world\"\n",
        "\n",
        "# print(id(a))\n",
        "# print(id(b))\n",
        "# print(a is b)\n",
        "a = \"hello\"\n",
        "b = \"world\"\n",
        "\n",
        "c = \"helloworld\"\n",
        "d = sys.intern(a + b)\n",
        "\n",
        "print(c is d)"
      ],
      "metadata": {
        "colab": {
          "base_uri": "https://localhost:8080/"
        },
        "id": "fN97GGACapb_",
        "outputId": "e6b58048-e5a9-4b03-fc7c-bfa287ce9638"
      },
      "execution_count": null,
      "outputs": [
        {
          "output_type": "stream",
          "name": "stdout",
          "text": [
            "True\n"
          ]
        }
      ]
    },
    {
      "cell_type": "code",
      "source": [
        "string_methods: str = dir(str)\n",
        "\n",
        "\n",
        "filtered_methods: str = [method for method in string_methods if not method.startswith(\"__\")]\n",
        "\n",
        "\n",
        "filtered_methods"
      ],
      "metadata": {
        "colab": {
          "base_uri": "https://localhost:8080/"
        },
        "id": "0L3ByG6Dg5TJ",
        "outputId": "d5b485c9-4ea6-405b-9b37-1e5a756eeb59"
      },
      "execution_count": null,
      "outputs": [
        {
          "output_type": "execute_result",
          "data": {
            "text/plain": [
              "['capitalize',\n",
              " 'casefold',\n",
              " 'center',\n",
              " 'count',\n",
              " 'encode',\n",
              " 'endswith',\n",
              " 'expandtabs',\n",
              " 'find',\n",
              " 'format',\n",
              " 'format_map',\n",
              " 'index',\n",
              " 'isalnum',\n",
              " 'isalpha',\n",
              " 'isascii',\n",
              " 'isdecimal',\n",
              " 'isdigit',\n",
              " 'isidentifier',\n",
              " 'islower',\n",
              " 'isnumeric',\n",
              " 'isprintable',\n",
              " 'isspace',\n",
              " 'istitle',\n",
              " 'isupper',\n",
              " 'join',\n",
              " 'ljust',\n",
              " 'lower',\n",
              " 'lstrip',\n",
              " 'maketrans',\n",
              " 'partition',\n",
              " 'removeprefix',\n",
              " 'removesuffix',\n",
              " 'replace',\n",
              " 'rfind',\n",
              " 'rindex',\n",
              " 'rjust',\n",
              " 'rpartition',\n",
              " 'rsplit',\n",
              " 'rstrip',\n",
              " 'split',\n",
              " 'splitlines',\n",
              " 'startswith',\n",
              " 'strip',\n",
              " 'swapcase',\n",
              " 'title',\n",
              " 'translate',\n",
              " 'upper',\n",
              " 'zfill']"
            ]
          },
          "metadata": {},
          "execution_count": 41
        }
      ]
    },
    {
      "cell_type": "code",
      "source": [
        "fruits: list = [\"Mango\", \"Grapes\", \"Banana\"]\n",
        "\n",
        "# print(fruits[0: 1])\n",
        "\n",
        "# fruits.append(\"Orange\" )\n",
        "# fruits.append(\"Pineapple\")\n",
        "# fruits.append(\"Kiwi\")\n",
        "# fruits.append(\"Water melon\")\n",
        "\n",
        "fruits.extend([\"Orange\", \"Pineapple\", \"Kiwi\", \"Water melon\"])\n",
        "fruits.pop(3)\n",
        "\n",
        "print(fruits)"
      ],
      "metadata": {
        "colab": {
          "base_uri": "https://localhost:8080/"
        },
        "id": "qlNHNoeAiDR1",
        "outputId": "90f3a42d-0907-4315-9b03-0abceebefa4d"
      },
      "execution_count": null,
      "outputs": [
        {
          "output_type": "stream",
          "name": "stdout",
          "text": [
            "['Mango', 'Grapes', 'Banana', 'Pineapple', 'Kiwi', 'Water melon']\n"
          ]
        }
      ]
    },
    {
      "cell_type": "code",
      "source": [
        "person : dict = {\n",
        "\n",
        "    \"name\": \"Atique\",\n",
        "    \"age\": 23,\n",
        "    \"isTeacher\" : True,\n",
        "    \"class\": {\n",
        "        \"timings\": \"2 to 5\",\n",
        "        \"day\": \"Saturday\"\n",
        "    }\n",
        "}\n",
        "\n",
        "\n",
        "print(person['class']['timings'])"
      ],
      "metadata": {
        "colab": {
          "base_uri": "https://localhost:8080/"
        },
        "id": "-6myhs4elCh0",
        "outputId": "361e893b-abad-4bd7-e31e-60b54218671c"
      },
      "execution_count": 5,
      "outputs": [
        {
          "output_type": "stream",
          "name": "stdout",
          "text": [
            "2 to 5\n"
          ]
        }
      ]
    },
    {
      "cell_type": "code",
      "source": [
        "import random\n",
        "\n",
        "babar_score: int = random.randint(0, 120)\n",
        "\n",
        "if(babar_score > 50):\n",
        "  print(\"👑\", \"KING\" )\n",
        "else:\n",
        "  print(\"🔔\",\"KING\")"
      ],
      "metadata": {
        "colab": {
          "base_uri": "https://localhost:8080/"
        },
        "id": "qYXk3wRpm28g",
        "outputId": "5aecac86-ee1e-490f-e14b-66b4205d2619"
      },
      "execution_count": 7,
      "outputs": [
        {
          "output_type": "stream",
          "name": "stdout",
          "text": [
            "🔔 KING\n"
          ]
        }
      ]
    },
    {
      "cell_type": "code",
      "source": [
        "cricket_team_players = (\"Babar Azam\", \"Rizwan\", \"Shaheen Afridi\")\n",
        "\n",
        "# cricket_team_players[1] = \"Sarafraz Ahmed\"\n",
        "print(cricket_team_players)"
      ],
      "metadata": {
        "colab": {
          "base_uri": "https://localhost:8080/"
        },
        "id": "OFF2PivLo0Ly",
        "outputId": "aa27be51-8cdf-4b28-b0a6-38dbcb3b227f"
      },
      "execution_count": 9,
      "outputs": [
        {
          "output_type": "stream",
          "name": "stdout",
          "text": [
            "('Babar Azam', 'Rizwan', 'Shaheen Afridi')\n"
          ]
        }
      ]
    },
    {
      "cell_type": "code",
      "source": [
        "value: set = {0, 1, 2, 4, 1, 2}\n",
        "print(value)"
      ],
      "metadata": {
        "colab": {
          "base_uri": "https://localhost:8080/"
        },
        "id": "9s0pDYAfqBML",
        "outputId": "e1706b54-70a9-498d-be8d-252f812d1ec8"
      },
      "execution_count": null,
      "outputs": [
        {
          "output_type": "stream",
          "name": "stdout",
          "text": [
            "{0, 1, 2, 4}\n"
          ]
        }
      ]
    },
    {
      "cell_type": "code",
      "source": [
        "fruits: set = {\"Mango\", \"Grapes\", \"Banana\", \"Mango\"}\n",
        "print(type(fruits))"
      ],
      "metadata": {
        "colab": {
          "base_uri": "https://localhost:8080/"
        },
        "id": "TQlg5yz6qagb",
        "outputId": "80736a0f-a0e0-4f5c-dbd2-3a3a480cdb35"
      },
      "execution_count": null,
      "outputs": [
        {
          "output_type": "stream",
          "name": "stdout",
          "text": [
            "<class 'set'>\n"
          ]
        }
      ]
    },
    {
      "cell_type": "code",
      "source": [],
      "metadata": {
        "id": "0h7ziY0XrY7X"
      },
      "execution_count": null,
      "outputs": []
    }
  ]
}